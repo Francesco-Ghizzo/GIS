{
 "cells": [
  {
   "cell_type": "code",
   "execution_count": 1,
   "id": "9e0c4789-fa63-4900-b7bc-0e907eb52aa5",
   "metadata": {},
   "outputs": [
    {
     "data": {
      "text/plain": [
       "' Polygon '"
      ]
     },
     "execution_count": 1,
     "metadata": {},
     "output_type": "execute_result"
    }
   ],
   "source": [
    "''' Polygon '''"
   ]
  },
  {
   "cell_type": "code",
   "execution_count": 2,
   "id": "fe5f1d36-eeae-4427-a7ac-1739f3ffa346",
   "metadata": {},
   "outputs": [
    {
     "name": "stderr",
     "output_type": "stream",
     "text": [
      "/var/folders/rt/k30tjkvx04vdq1qxvtwsb47m0000gn/T/ipykernel_61408/3123370074.py:2: UserWarning: Shapely 2.0 is installed, but because PyGEOS is also installed, GeoPandas will still use PyGEOS by default for now. To force to use and test Shapely 2.0, you have to set the environment variable USE_PYGEOS=0. You can do this before starting the Python process, or in your code before importing geopandas:\n",
      "\n",
      "import os\n",
      "os.environ['USE_PYGEOS'] = '0'\n",
      "import geopandas\n",
      "\n",
      "In a future release, GeoPandas will switch to using Shapely by default. If you are using PyGEOS directly (calling PyGEOS functions on geometries from GeoPandas), this will then stop working and you are encouraged to migrate from PyGEOS to Shapely 2.0 (https://shapely.readthedocs.io/en/latest/migration_pygeos.html).\n",
      "  import geopandas\n"
     ]
    }
   ],
   "source": [
    "import fiona\n",
    "import geopandas\n",
    "import shapely.speedups\n",
    "from shapely import geometry\n",
    "from shapely.geometry import shape, mapping"
   ]
  },
  {
   "cell_type": "code",
   "execution_count": 3,
   "id": "32c3ec30-959a-4479-802a-495dc3a91174",
   "metadata": {},
   "outputs": [],
   "source": [
    "import matplotlib.pyplot as plt"
   ]
  },
  {
   "cell_type": "code",
   "execution_count": 4,
   "id": "8f7afc37-a8e2-4f8c-99fc-43da15cebbee",
   "metadata": {},
   "outputs": [
    {
     "name": "stdout",
     "output_type": "stream",
     "text": [
      "\u001b[31mexample_buffers.gpkg\u001b[m\u001b[m*            shapely.object.difference.ipynb\n"
     ]
    }
   ],
   "source": [
    "%ls"
   ]
  },
  {
   "cell_type": "code",
   "execution_count": 5,
   "id": "833bbe4b-6d9f-4795-9fb6-0bce296d375e",
   "metadata": {
    "tags": []
   },
   "outputs": [],
   "source": [
    "input_filename = \"example_buffers.gpkg\"\n",
    "\n",
    "output_filename = \"example_buffers_difference.gpkg\""
   ]
  },
  {
   "cell_type": "code",
   "execution_count": 6,
   "id": "8a3019dc-05e9-4348-a02b-f8b943e64647",
   "metadata": {},
   "outputs": [],
   "source": [
    "with fiona.open(input_filename, mode='r') as input_geopackage:\n",
    "    input_layers = fiona.listlayers(input_filename)"
   ]
  },
  {
   "cell_type": "code",
   "execution_count": 7,
   "id": "e0da7a77-0c8f-4129-9d5f-4362c12781d1",
   "metadata": {},
   "outputs": [
    {
     "data": {
      "text/plain": [
       "['exampleESRI102032', 'exampleESRI102032_buffer1']"
      ]
     },
     "execution_count": 7,
     "metadata": {},
     "output_type": "execute_result"
    }
   ],
   "source": [
    "input_layers"
   ]
  },
  {
   "cell_type": "code",
   "execution_count": 8,
   "id": "e437eefd-7751-4b92-8cfc-6809ea98a0fa",
   "metadata": {},
   "outputs": [],
   "source": [
    "input_layer1 = input_layers[0]"
   ]
  },
  {
   "cell_type": "code",
   "execution_count": 9,
   "id": "10604c65-a794-49ae-a1ee-0070811c723c",
   "metadata": {},
   "outputs": [],
   "source": [
    "with fiona.open(input_filename, mode='r', layer=input_layer1) as layer1:\n",
    "\tlayer1_polygons = [shape(element['geometry']) for element in list(layer1)]\t# Collection (fiona.collection.Collection) to list of polygons\n",
    "\tlayer1_geoseries = geopandas.GeoSeries(layer1_polygons)"
   ]
  },
  {
   "cell_type": "code",
   "execution_count": 10,
   "id": "6bee3d65-2c54-4d97-9e12-a8cca0e2a8d8",
   "metadata": {},
   "outputs": [
    {
     "data": {
      "text/plain": [
       "<AxesSubplot: >"
      ]
     },
     "execution_count": 10,
     "metadata": {},
     "output_type": "execute_result"
    },
    {
     "data": {
      "image/png": "[encoded data removed]",
      "text/plain": [
       "<Figure size 640x480 with 1 Axes>"
      ]
     },
     "metadata": {},
     "output_type": "display_data"
    }
   ],
   "source": [
    "layer1_geoseries.plot()"
   ]
  },
  {
   "cell_type": "code",
   "execution_count": 11,
   "id": "1cc18ed3-28fb-43f0-a86f-a5d454d33eb2",
   "metadata": {},
   "outputs": [],
   "source": [
    "input_layer2 = input_layers[1]"
   ]
  },
  {
   "cell_type": "code",
   "execution_count": 12,
   "id": "191bb550-643e-452e-91d0-ba60ee6801d1",
   "metadata": {},
   "outputs": [],
   "source": [
    "with fiona.open(input_filename, mode='r', layer=input_layer2) as layer2:\n",
    "\tlayer2_polygons = [shape(element['geometry']) for element in list(layer2)]\t# Collection (fiona.collection.Collection) to list of polygons\n",
    "\tlayer2_geoseries = geopandas.GeoSeries(layer2_polygons)\t\t# list of polygons to GeoSeries"
   ]
  },
  {
   "cell_type": "code",
   "execution_count": 14,
   "id": "e833c76e-df5f-4dc2-b570-988e988292ba",
   "metadata": {},
   "outputs": [
    {
     "data": {
      "image/png": "[encoded data removed]",
      "text/plain": [
       "<Figure size 640x480 with 1 Axes>"
      ]
     },
     "metadata": {},
     "output_type": "display_data"
    }
   ],
   "source": [
    "fig, ax = plt.subplots()\n",
    "layer2_geoseries.plot(ax=ax, color='limegreen')\n",
    "layer1_geoseries.plot(ax=ax, color='tab:blue')\n",
    "plt.show()"
   ]
  },
  {
   "cell_type": "code",
   "execution_count": 15,
   "id": "01ad5c39-759d-45b8-845b-54c5989140f9",
   "metadata": {},
   "outputs": [
    {
     "data": {
      "text/plain": [
       "<geopandas.sindex.PyGEOSSTRTreeIndex at 0x18a72bb10>"
      ]
     },
     "execution_count": 15,
     "metadata": {},
     "output_type": "execute_result"
    }
   ],
   "source": [
    "layer1_geoseries.sindex\t\t# create spatial index\n",
    "\n",
    "layer2_geoseries.sindex\t\t# create spatial index"
   ]
  },
  {
   "cell_type": "code",
   "execution_count": 16,
   "id": "96af3a7b-7bc3-42a3-9dbb-2ab6b9645f1a",
   "metadata": {},
   "outputs": [],
   "source": [
    "layer1_geodataframe = geopandas.GeoDataFrame(geometry=layer1_geoseries)\n",
    "\n",
    "layer2_geodataframe = geopandas.GeoDataFrame(geometry=layer2_geoseries)"
   ]
  },
  {
   "cell_type": "code",
   "execution_count": 17,
   "id": "a63fde0a-ebf5-4cb8-8619-8ebd9eb790da",
   "metadata": {},
   "outputs": [],
   "source": [
    "layer1_geoseries.index = geopandas.sjoin(layer1_geodataframe, layer2_geodataframe, how='left', predicate='within').index_right\n",
    "\n",
    "# layer2_geoseries.index = geopandas.sjoin(layer2_geodataframe, layer0_geodataframe, how='left', predicate='Contains').index_right"
   ]
  },
  {
   "cell_type": "code",
   "execution_count": 18,
   "id": "12ba4088-1e63-44ed-a2b5-ac6692c1dc51",
   "metadata": {},
   "outputs": [],
   "source": [
    "difference_polygons = [polygon2.difference(layer1_geoseries[i]) for i, polygon2 in enumerate(layer2_polygons)]"
   ]
  },
  {
   "cell_type": "code",
   "execution_count": 20,
   "id": "1107cdea-8cee-4a24-a05d-4622bed1eb10",
   "metadata": {},
   "outputs": [
    {
     "data": {
      "text/plain": [
       "<AxesSubplot: >"
      ]
     },
     "execution_count": 20,
     "metadata": {},
     "output_type": "execute_result"
    },
    {
     "data": {
      "image/png": "[encoded data removed]",
      "text/plain": [
       "<Figure size 640x480 with 1 Axes>"
      ]
     },
     "metadata": {},
     "output_type": "display_data"
    }
   ],
   "source": [
    "geopandas.GeoDataFrame(geometry=difference_polygons).plot(color='limegreen')"
   ]
  },
  {
   "cell_type": "code",
   "execution_count": 21,
   "id": "486c5d95-c41a-4853-8595-1eb68bbcc7bd",
   "metadata": {},
   "outputs": [],
   "source": [
    "# Cast to MultiPolygon\n",
    "\n",
    "from shapely.geometry.multipolygon import MultiPolygon\n",
    "\n",
    "def cast_to_multipolygon(geom):\n",
    "\tif type(geom) == geometry.polygon.Polygon:\n",
    "\t\treturn geometry.multipolygon.MultiPolygon([geom])\n",
    "    \n",
    "difference_multipolygons = list(map(cast_to_multipolygon, difference_polygons))"
   ]
  },
  {
   "cell_type": "code",
   "execution_count": 22,
   "id": "b80c0e7a-551e-4e19-8376-c73a679f3e9b",
   "metadata": {},
   "outputs": [],
   "source": [
    "output_layer = input_layer2\n",
    "\n",
    "schema = {\n",
    "\t\"geometry\": \"MultiPolygon\", \"properties\": {\"id\": \"int\"}\n",
    "}\n",
    "\n",
    "with fiona.open(output_filename, mode='w', driver='GPKG', schema=schema, crs='ESRI:102032', layer=output_layer) as output_geopackage:\n",
    "\tfor id, geoms in enumerate(difference_multipolygons):\n",
    "\t\toutput_geopackage.write({\"geometry\": mapping(geoms), \"properties\": {\"id\": id}})"
   ]
  }
 ],
 "metadata": {
  "kernelspec": {
   "display_name": "Python 3 (ipykernel)",
   "language": "python",
   "name": "python3"
  },
  "language_info": {
   "codemirror_mode": {
    "name": "ipython",
    "version": 3
   },
   "file_extension": ".py",
   "mimetype": "text/x-python",
   "name": "python",
   "nbconvert_exporter": "python",
   "pygments_lexer": "ipython3",
   "version": "3.11.0"
  }
 },
 "nbformat": 4,
 "nbformat_minor": 5
}
