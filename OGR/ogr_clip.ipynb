{
 "cells": [
  {
   "cell_type": "code",
   "execution_count": 1,
   "id": "48c3fd71-3d5f-4b69-a8e2-e613810d2e7e",
   "metadata": {},
   "outputs": [],
   "source": [
    "from osgeo import ogr"
   ]
  },
  {
   "cell_type": "markdown",
   "id": "6d2dbd22-3d68-4ee1-bed2-803638fc8b5e",
   "metadata": {},
   "source": [
    "Input Layer"
   ]
  },
  {
   "cell_type": "code",
   "execution_count": 2,
   "id": "789834ac-ab31-4d4d-b634-13442ce674f1",
   "metadata": {},
   "outputs": [],
   "source": [
    "driverName = \"ESRI Shapefile\"\n",
    "driver = ogr.GetDriverByName(driverName)"
   ]
  },
  {
   "cell_type": "code",
   "execution_count": 3,
   "id": "1a65961f-43c0-41e8-bf40-d69a323c8212",
   "metadata": {},
   "outputs": [],
   "source": [
    "inputShapefileName = \"Cobertura_uso_terra_Brasil-dissolve.shp\"\n",
    "inputShapefileFolderPath = \"/Users/francescoghizzo/Documents/DEEP ESG/Extração e Processamento/Cobertura_uso_terra_Brasil\"\n",
    "inputShapefile = inputShapefileFolderPath + '/' + inputShapefileName"
   ]
  },
  {
   "cell_type": "code",
   "execution_count": 4,
   "id": "65566f5f-3437-45dc-9a34-f5fbce84f8f0",
   "metadata": {},
   "outputs": [],
   "source": [
    "inputDataSource = driver.Open(inputShapefile, 0)\n",
    "if inputDataSource is None:\n",
    "    print('Could not open ' + inputShapefileName)"
   ]
  },
  {
   "cell_type": "code",
   "execution_count": 5,
   "id": "42985b05-db7d-4414-b6dd-21455aee9af6",
   "metadata": {},
   "outputs": [
    {
     "name": "stdout",
     "output_type": "stream",
     "text": [
      "12\n"
     ]
    }
   ],
   "source": [
    "inputLayer = inputDataSource.GetLayer()\n",
    "print(inputLayer.GetFeatureCount())"
   ]
  },
  {
   "cell_type": "markdown",
   "id": "b5b8f4d3-b29c-4654-ac3c-310f87224488",
   "metadata": {},
   "source": [
    "Overlay Layer"
   ]
  },
  {
   "cell_type": "code",
   "execution_count": 6,
   "id": "ad5c94be-a215-4d35-910c-f2044e2f6432",
   "metadata": {},
   "outputs": [],
   "source": [
    "overlayShapefileName = \"BR_Municipios_2021.shp\"\n",
    "overlayShapefileFolderPath = \"/Users/francescoghizzo/Documents/DEEP ESG/Bases de Dados/SNIRH/GEOFT_MUNICIPIO_2021\"\n",
    "overlayShapefile = overlayShapefileFolderPath + '/' + overlayShapefileName"
   ]
  },
  {
   "cell_type": "code",
   "execution_count": 12,
   "id": "7631f6c5-2b64-4e66-9ddd-154cf15c3db3",
   "metadata": {},
   "outputs": [],
   "source": [
    "overlaySource = driver.Open(overlayShapefile, 0)\n",
    "if overlaySource is None:\n",
    "    print('Could not open ' + overlayShapefileName)"
   ]
  },
  {
   "cell_type": "code",
   "execution_count": null,
   "id": "f07fdb66-5761-46ec-b400-9a627ef06e24",
   "metadata": {},
   "outputs": [],
   "source": [
    "overlayLayer = overlaySource.GetLayer()\n",
    "print(inputLayer.GetFeatureCount())"
   ]
  },
  {
   "cell_type": "markdown",
   "id": "aaa48350-63ac-4f49-b7e7-6ee28575ac95",
   "metadata": {},
   "source": [
    "Clipped"
   ]
  },
  {
   "cell_type": "code",
   "execution_count": 8,
   "id": "40fcddfe-339f-43a0-9acb-939e7b7efc0e",
   "metadata": {},
   "outputs": [],
   "source": [
    "outputShapefileName = \"Cobertura_uso_terra_Brasil-clip.shp\"\n",
    "outputShapefileFolderPath = \"/Users/francescoghizzo/Documents/DEEP ESG/Extração e Processamento/Cobertura_uso_terra_Brasil\"\n",
    "outputShapefile = outputShapefileFolderPath + '/' + outputShapefileName"
   ]
  },
  {
   "cell_type": "code",
   "execution_count": 9,
   "id": "dad630a6-5d77-4b9e-955e-64af174649a4",
   "metadata": {},
   "outputs": [],
   "source": [
    "outputDataSource = driver.CreateDataSource(outputShapefile)"
   ]
  },
  {
   "cell_type": "code",
   "execution_count": 10,
   "id": "11b9a386-b6a2-4c27-bf4c-8fe4870badf9",
   "metadata": {},
   "outputs": [],
   "source": [
    "outputLayer = outputDataSource.CreateLayer('Cobertura_uso_terra_Brasil-clip', geom_type=ogr.wkbMultiPolygon)"
   ]
  },
  {
   "cell_type": "code",
   "execution_count": null,
   "id": "20edea33-a650-4435-94ec-66420fb7549a",
   "metadata": {},
   "outputs": [],
   "source": [
    "ogr.Layer.Clip(inputLayer, overlayLayer, outputLayer)\n",
    "print(outputLayer.GetFeatureCount())"
   ]
  }
 ],
 "metadata": {
  "kernelspec": {
   "display_name": "Python 3 (ipykernel)",
   "language": "python",
   "name": "python3"
  },
  "language_info": {
   "codemirror_mode": {
    "name": "ipython",
    "version": 3
   },
   "file_extension": ".py",
   "mimetype": "text/x-python",
   "name": "python",
   "nbconvert_exporter": "python",
   "pygments_lexer": "ipython3",
   "version": "3.11.0"
  }
 },
 "nbformat": 4,
 "nbformat_minor": 5
}
