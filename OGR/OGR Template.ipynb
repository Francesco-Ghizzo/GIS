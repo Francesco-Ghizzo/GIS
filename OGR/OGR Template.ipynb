{
 "cells": [
  {
   "cell_type": "markdown",
   "id": "5852bdee-a285-47ca-9ab9-df028c0be365",
   "metadata": {},
   "source": [
    "https://www.gis.usu.edu/~chrisg/python/2009/lectures/ospy_slides1.pdf"
   ]
  },
  {
   "cell_type": "code",
   "execution_count": null,
   "id": "e14df927-c18d-41ad-8bd0-d21eeb7f650b",
   "metadata": {},
   "outputs": [],
   "source": [
    "from osgeo import ogr\n",
    "import sys"
   ]
  },
  {
   "cell_type": "code",
   "execution_count": 2,
   "id": "8bf7fe66-7976-4d90-b33e-d8cc5912daab",
   "metadata": {},
   "outputs": [],
   "source": [
    "fileName = 'Cobertura_uso_terra_Brasil-dissolve.shp'"
   ]
  },
  {
   "cell_type": "code",
   "execution_count": 3,
   "id": "19d148ef-517f-4c2e-a4b6-07f6a29f0899",
   "metadata": {},
   "outputs": [],
   "source": [
    "filePath = '/Users/francescoghizzo/Documents/DEEP ESG/Bases de Dados/IBGE/Cobertura_uso_terra_Brasil_serie_revisada/'"
   ]
  },
  {
   "cell_type": "code",
   "execution_count": 4,
   "id": "f1dc35b7-6e3e-4b49-9c55-6f2d40e049e8",
   "metadata": {},
   "outputs": [],
   "source": [
    "file = filePath + fileName"
   ]
  },
  {
   "cell_type": "markdown",
   "id": "f34a080e-71f9-4c23-86b6-e299793976ac",
   "metadata": {},
   "source": [
    "<h2>Opening a layer (shapefile)</h2>"
   ]
  },
  {
   "cell_type": "markdown",
   "id": "d9d22695-a32f-404d-813a-85cfd73d5963",
   "metadata": {},
   "source": [
    "A driver is an object that knows how to interact with a certain data type (such as a shapefile).\n",
    "\n",
    "You need an appropriate driver in order to read or write data (need it explicitly for write).\n",
    "\n",
    "To get the desired driver:"
   ]
  },
  {
   "cell_type": "code",
   "execution_count": 5,
   "id": "d2403c25-6103-4017-a91b-581eeefb5fe2",
   "metadata": {},
   "outputs": [],
   "source": [
    "driver = ogr.GetDriverByName('ESRI Shapefile')"
   ]
  },
  {
   "cell_type": "markdown",
   "id": "5e03fd35-2d93-4544-86fa-2c74bef43e57",
   "metadata": {},
   "source": [
    "Grab the driver for read operations so it is available for writing."
   ]
  },
  {
   "cell_type": "markdown",
   "id": "ad8cae2c-92a0-433e-90f5-bba9fbfe349c",
   "metadata": {},
   "source": [
    "The Driver <b>Open()</b> method returns a DataSource object\n",
    "\n",
    "<b>Open(&lt;filename>, &lt;update>;)</b>\n",
    "    \n",
    "where <update> is 0 for read-only, 1 for writeable"
   ]
  },
  {
   "cell_type": "code",
   "execution_count": null,
   "id": "79d26b36-c86c-4d5a-91cd-ba50d787c3df",
   "metadata": {},
   "outputs": [],
   "source": [
    "dataSource = driver.Open(file, 0)\n",
    "if dataSource is None:\n",
    "    print('Could not open' + fileName)\n",
    "    sys.exit(1)"
   ]
  },
  {
   "cell_type": "markdown",
   "id": "876e8175-a26d-4b3e-adb2-d10b0f3a2b53",
   "metadata": {},
   "source": [
    "To avoid specifying entire path for filenames, set working directory with:\n",
    "\n",
    "<b>os.chdir(&lt;directory_path>)</b>"
   ]
  },
  {
   "cell_type": "code",
   "execution_count": 7,
   "id": "f8610a87-27dc-4664-a8c2-82941ecb412f",
   "metadata": {},
   "outputs": [],
   "source": [
    "import os"
   ]
  },
  {
   "cell_type": "code",
   "execution_count": 8,
   "id": "eb9ddaba-8d40-46ea-880f-3e838cc14482",
   "metadata": {},
   "outputs": [],
   "source": [
    "os.chdir(filePath)"
   ]
  },
  {
   "cell_type": "code",
   "execution_count": 9,
   "id": "bb1a124d-8456-4b6e-ac0d-e907736b143e",
   "metadata": {},
   "outputs": [],
   "source": [
    "driver = ogr.GetDriverByName('ESRI Shapefile')\n",
    "dataSource = driver.Open(fileName, 0)\n",
    "if dataSource is None:\n",
    "    print('Could not open' + fileName)\n",
    "    sys.exit(1)"
   ]
  },
  {
   "cell_type": "markdown",
   "id": "2f4e8959-ccf7-4138-ae30-39c27323492e",
   "metadata": {},
   "source": [
    "Use <b>GetLayer(&lt;index>)</b> on a DataSource to get a Layer object:"
   ]
  },
  {
   "cell_type": "code",
   "execution_count": 10,
   "id": "f7d78c73-93a1-424f-ad42-f7946bb67060",
   "metadata": {},
   "outputs": [],
   "source": [
    "layer = dataSource.GetLayer()"
   ]
  },
  {
   "cell_type": "markdown",
   "id": "353a9707-7a7b-41dc-9f12-5aa7705de5c0",
   "metadata": {},
   "source": [
    "&lt;index> is always 0 and optional for shapefiles:"
   ]
  },
  {
   "cell_type": "code",
   "execution_count": 11,
   "id": "0a68bdbf-86f3-4346-aa7f-d20c35696a8d",
   "metadata": {},
   "outputs": [],
   "source": [
    "layer = dataSource.GetLayer(0)"
   ]
  },
  {
   "cell_type": "markdown",
   "id": "efcca830-411c-42a2-8b4a-2389790a04fb",
   "metadata": {},
   "source": [
    "<h2>Getting info about the layer</h2>"
   ]
  },
  {
   "cell_type": "markdown",
   "id": "99bdeffa-375c-4363-8cba-a4cd7f48417c",
   "metadata": {},
   "source": [
    "Get the name of the layer:"
   ]
  },
  {
   "cell_type": "code",
   "execution_count": 30,
   "id": "b8cc28b8-7b3b-4266-9fcd-47e635c5d140",
   "metadata": {},
   "outputs": [
    {
     "name": "stdout",
     "output_type": "stream",
     "text": [
      "Layer name: Cobertura_uso_terra_Brasil-dissolve\n"
     ]
    }
   ],
   "source": [
    "name = layer.GetName()\n",
    "print('Layer name:', name)"
   ]
  },
  {
   "cell_type": "code",
   "execution_count": 31,
   "id": "9e4708b5-e1be-4634-b65f-0f9a25466166",
   "metadata": {},
   "outputs": [],
   "source": [
    "geomType = layer.GetGeomType()  # GeomType = point, linestring, polygon o GeomType = geometry, geography, topology?"
   ]
  },
  {
   "cell_type": "markdown",
   "id": "60ddde65-2bb8-4de8-b2b5-d140151401a3",
   "metadata": {},
   "source": [
    "Get the number of features in the layer:"
   ]
  },
  {
   "cell_type": "code",
   "execution_count": 14,
   "id": "264d4e1f-aea5-4a0a-99d5-e0ceea5de663",
   "metadata": {},
   "outputs": [
    {
     "name": "stdout",
     "output_type": "stream",
     "text": [
      "Feature count: 12\n"
     ]
    }
   ],
   "source": [
    "numFeatures = layer.GetFeatureCount()\n",
    "print('Feature count:', numFeatures)"
   ]
  },
  {
   "cell_type": "code",
   "execution_count": 15,
   "id": "4456fb0a-d995-44f8-808d-c2f738f1f8b5",
   "metadata": {},
   "outputs": [
    {
     "name": "stdout",
     "output_type": "stream",
     "text": [
      "Feature count: 12\n"
     ]
    }
   ],
   "source": [
    "layer.ResetReading()\n",
    "\n",
    "count = 0\n",
    "feature = layer.GetNextFeature()\n",
    "while feature is not None:\n",
    "    count += 1\n",
    "    feature = layer.GetNextFeature()\n",
    "print('Feature count:', count)"
   ]
  },
  {
   "cell_type": "markdown",
   "id": "84ce47af-f67e-4026-bc3e-914121e61bdb",
   "metadata": {},
   "source": [
    "Get the extent as a tuple:"
   ]
  },
  {
   "cell_type": "code",
   "execution_count": 16,
   "id": "099eea72-1df1-4e5c-b26b-d749d149726a",
   "metadata": {},
   "outputs": [],
   "source": [
    "extent = layer.GetExtent()"
   ]
  },
  {
   "cell_type": "code",
   "execution_count": 17,
   "id": "d0c6efe5-fb67-46bd-b6ae-99e0829d4091",
   "metadata": {},
   "outputs": [
    {
     "name": "stdout",
     "output_type": "stream",
     "text": [
      "Extent: (-74.00005989467657, -28.710965592652176, -33.878091759421565, 5.273917089392972)\n"
     ]
    }
   ],
   "source": [
    "print('Extent:', extent)"
   ]
  },
  {
   "cell_type": "code",
   "execution_count": 18,
   "id": "3bfc378c-d985-4619-b960-dafffefd9463",
   "metadata": {},
   "outputs": [
    {
     "name": "stdout",
     "output_type": "stream",
     "text": [
      "UL: -74.00005989467657 5.273917089392972\n"
     ]
    }
   ],
   "source": [
    "print('UL:', extent[0], extent[3])"
   ]
  },
  {
   "cell_type": "code",
   "execution_count": 19,
   "id": "db30722e-0caf-4e71-ba7a-29b10e0040c8",
   "metadata": {},
   "outputs": [
    {
     "name": "stdout",
     "output_type": "stream",
     "text": [
      "LR: -28.710965592652176 -33.878091759421565\n"
     ]
    }
   ],
   "source": [
    "print('LR:', extent[1], extent[2])"
   ]
  },
  {
   "cell_type": "markdown",
   "id": "022749da-7067-41d5-90e1-4303bd9a73d5",
   "metadata": {},
   "source": [
    "If we know the FID (offset) of a feature, we can use <b>GetFeature(&#60;index&#62;)</b> on the Layer:"
   ]
  },
  {
   "cell_type": "code",
   "execution_count": 27,
   "id": "bae3fbeb-cb71-4608-83f3-57f5ef3747e6",
   "metadata": {},
   "outputs": [],
   "source": [
    "feature = layer.GetFeature(0)"
   ]
  },
  {
   "cell_type": "markdown",
   "id": "4e657b7f-d27e-4be3-a302-82595049f42d",
   "metadata": {},
   "source": [
    "Or we can loop through all of the features:"
   ]
  },
  {
   "cell_type": "code",
   "execution_count": 21,
   "id": "9de4da50-61da-4c3e-87cb-a051888b5cd3",
   "metadata": {},
   "outputs": [],
   "source": [
    "feature = layer.GetNextFeature()\n",
    "while feature:\n",
    "    # do something here\n",
    "    feature = layer.GetNextFeature()\n",
    "layer.ResetReading()    #need if looping again"
   ]
  },
  {
   "cell_type": "markdown",
   "id": "88d8afdb-260f-40c2-b9f3-df454dcd24ab",
   "metadata": {},
   "source": [
    "<h2>Getting a feature's attributes</h2>"
   ]
  },
  {
   "cell_type": "markdown",
   "id": "4c47900d-36c8-4312-97d3-7cd11ba2d8c1",
   "metadata": {},
   "source": [
    "Get a list of the feature's attribute fields:"
   ]
  },
  {
   "cell_type": "code",
   "execution_count": 25,
   "id": "2ba6663e-0572-4ec4-9035-9e445e858294",
   "metadata": {},
   "outputs": [
    {
     "name": "stdout",
     "output_type": "stream",
     "text": [
      "Column names: ['USO2020', 'NOME', 'id']\n"
     ]
    }
   ],
   "source": [
    "layerDefinition = layer.GetLayerDefn()\n",
    "layerColNames = [layerDefinition.GetFieldDefn(i).GetName() for i in range(layerDefinition.GetFieldCount())]\n",
    "print('Column names:', layerColNames)"
   ]
  },
  {
   "cell_type": "markdown",
   "id": "2af749e6-8d32-4693-98e4-fbb0da950045",
   "metadata": {},
   "source": [
    "Feature objects have a <b>GetField(&#60;name&#62;)</b> method which returns the value of that attribute field.\n",
    "\n",
    "There are variations, such as <b>GetFieldAsString(&#60;name&#62;)</b> and\n",
    "    <b>GetFieldAsInteger(&#60;name&#62;)</b>:"
   ]
  },
  {
   "cell_type": "code",
   "execution_count": 28,
   "id": "d3df2bb2-4b59-4113-b343-fe07a592e3e6",
   "metadata": {},
   "outputs": [],
   "source": [
    "id = feature.GetField('id')\n",
    "id = feature.GetFieldAsString('id')"
   ]
  },
  {
   "cell_type": "markdown",
   "id": "ee80d0c3-0d4b-4e0c-9421-49fa4abb305d",
   "metadata": {},
   "source": [
    "<h2>Getting a feature's geometry</h2>"
   ]
  },
  {
   "cell_type": "markdown",
   "id": "10aefaee-c2e8-401a-9ec7-04919305f3f6",
   "metadata": {},
   "source": [
    "Feature objects have a method called <b>GetGeometryRef()</b> which returns a\n",
    "Geometry object (could be Point, Polygon, etc)"
   ]
  },
  {
   "cell_type": "code",
   "execution_count": 29,
   "id": "74692d7b-50b5-4db8-92f2-dda4cd41da0c",
   "metadata": {},
   "outputs": [],
   "source": [
    "geometry = feature.GetGeometryRef()"
   ]
  },
  {
   "cell_type": "markdown",
   "id": "71fa4e9a-d68b-494c-9d73-b7c9c926e17d",
   "metadata": {},
   "source": [
    "Point objects have <b>GetX()</b> and <b>GetY()</b> methods"
   ]
  },
  {
   "cell_type": "code",
   "execution_count": null,
   "id": "58447c96-151d-41de-9489-ab0e5271dc9f",
   "metadata": {},
   "outputs": [],
   "source": [
    "x = geometry.GetX()\n",
    "y = geometry.GetY()"
   ]
  },
  {
   "cell_type": "markdown",
   "id": "eae4d319-1697-4c5e-aea9-096550bd6948",
   "metadata": {},
   "source": [
    "<h2>Destroying objects</h2>"
   ]
  },
  {
   "cell_type": "markdown",
   "id": "b44beda5-6e34-4623-8662-d9b2e0f4fb9d",
   "metadata": {},
   "source": [
    "For memory management purposes we need to make sure that we get rid of things such as features when done with them:"
   ]
  },
  {
   "cell_type": "code",
   "execution_count": 172,
   "id": "c2a81f48-cf69-4f91-8d2a-865ce3b1f03b",
   "metadata": {},
   "outputs": [],
   "source": [
    "feature.Destroy()"
   ]
  },
  {
   "cell_type": "markdown",
   "id": "19b0e4e0-f18e-418b-96e2-071d799d02f5",
   "metadata": {},
   "source": [
    "Also need to close DataSource objects when done with them"
   ]
  },
  {
   "cell_type": "code",
   "execution_count": 173,
   "id": "2e623966-f732-4d8f-8709-bf277a82ffea",
   "metadata": {},
   "outputs": [],
   "source": [
    "dataSource.Destroy()"
   ]
  },
  {
   "cell_type": "markdown",
   "id": "0f164331-96bb-474d-9ab2-8368fbb74d41",
   "metadata": {},
   "source": [
    "<h2>Adding fields</h2>"
   ]
  },
  {
   "cell_type": "markdown",
   "id": "0eb67091-a20c-4bdc-ad9d-0e642071c759",
   "metadata": {},
   "source": [
    "We cannot add fields to non-empty shapefiles. \n",
    "Shapefiles need at least one attribute field.\n",
    "\n",
    "We need a `FieldDefn` object first.\n",
    "You can copy one from an existing feature with <b>GetFieldDefnRef(&#60;field_index&#62;)</b> or <b>GetFieldDefnRef(&#60;field_name&#62;)</b>:"
   ]
  },
  {
   "cell_type": "code",
   "execution_count": 33,
   "id": "53118cee-f93f-4171-9c78-4c6eb8104714",
   "metadata": {},
   "outputs": [],
   "source": [
    "fieldDefn = feature.GetFieldDefnRef(0)\n",
    "fieldDefn = feature.GetFieldDefnRef('id')"
   ]
  },
  {
   "cell_type": "markdown",
   "id": "39696a16-f277-4e66-9f91-daae27bf676e",
   "metadata": {},
   "source": [
    "Now create a field on the layer using the `FieldDefn` object and <b>CreateField(&#60;fieldDefn&#62;)</b>:"
   ]
  },
  {
   "cell_type": "code",
   "execution_count": 35,
   "id": "c275d8f2-ebd2-488a-aeec-52b0ad3026c1",
   "metadata": {},
   "outputs": [
    {
     "name": "stderr",
     "output_type": "stream",
     "text": [
      "ERROR 6: CreateField : unsupported operation on a read-only datasource.\n"
     ]
    },
    {
     "data": {
      "text/plain": [
       "6"
      ]
     },
     "execution_count": 35,
     "metadata": {},
     "output_type": "execute_result"
    }
   ],
   "source": [
    "layer.CreateField(fieldDefn)"
   ]
  }
 ],
 "metadata": {
  "kernelspec": {
   "display_name": "Python 3 (ipykernel)",
   "language": "python",
   "name": "python3"
  },
  "language_info": {
   "codemirror_mode": {
    "name": "ipython",
    "version": 3
   },
   "file_extension": ".py",
   "mimetype": "text/x-python",
   "name": "python",
   "nbconvert_exporter": "python",
   "pygments_lexer": "ipython3",
   "version": "3.11.0"
  }
 },
 "nbformat": 4,
 "nbformat_minor": 5
}
